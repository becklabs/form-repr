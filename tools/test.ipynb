{
 "cells": [
  {
   "cell_type": "code",
   "execution_count": 1,
   "metadata": {},
   "outputs": [
    {
     "name": "stdout",
     "output_type": "stream",
     "text": [
      "Loads checkpoint by local backend from path: /Users/becklabash/Documents/AI/form-repr/tools/../checkpoints/mmpose/rtmpose-m_simcc-coco_pt-aic-coco_420e-256x192-d8dd5ca4_20230127.pth\n",
      "11/27 20:41:09 - mmengine - \u001b[5m\u001b[4m\u001b[33mWARNING\u001b[0m - Failed to search registry with scope \"mmpose\" in the \"function\" registry tree. As a workaround, the current \"function\" registry in \"mmengine\" is used to build instance. This may cause unexpected failure when running the built modules. Please check whether \"mmpose\" is a correct scope, or whether the registry is initialized.\n",
      "Loads checkpoint by http backend from path: https://download.openmmlab.com/mmdetection/v3.0/rtmdet/rtmdet_m_8xb32-300e_coco/rtmdet_m_8xb32-300e_coco_20220719_112220-229f527c.pth\n",
      "The model and loaded state dict do not match exactly\n",
      "\n",
      "unexpected key in source state_dict: data_preprocessor.mean, data_preprocessor.std\n",
      "\n",
      "11/27 20:41:10 - mmengine - \u001b[5m\u001b[4m\u001b[33mWARNING\u001b[0m - Failed to search registry with scope \"mmdet\" in the \"function\" registry tree. As a workaround, the current \"function\" registry in \"mmengine\" is used to build instance. This may cause unexpected failure when running the built modules. Please check whether \"mmdet\" is a correct scope, or whether the registry is initialized.\n",
      "11/27 20:41:10 - mmengine - \u001b[5m\u001b[4m\u001b[33mWARNING\u001b[0m - The current default scope \"mmdet\" is not \"mmpose\", `init_default_scope` will force set the currentdefault scope to \"mmpose\".\n",
      "Loads checkpoint by local backend from path: /Users/becklabash/Documents/AI/form-repr/tools/../checkpoints/mmpose/motionbert_ft_h36m-d80af323_20230531.pth\n",
      "Loads checkpoint by local backend from path: /Users/becklabash/Documents/AI/form-repr/tools/../checkpoints/mmpose/rtmpose-m_simcc-coco_pt-aic-coco_420e-256x192-d8dd5ca4_20230127.pth\n",
      "11/27 20:41:10 - mmengine - \u001b[5m\u001b[4m\u001b[33mWARNING\u001b[0m - The current default scope \"mmpose\" is not \"mmdet\", `init_default_scope` will force set the currentdefault scope to \"mmdet\".\n",
      "Loads checkpoint by http backend from path: https://download.openmmlab.com/mmdetection/v3.0/rtmdet/rtmdet_m_8xb32-300e_coco/rtmdet_m_8xb32-300e_coco_20220719_112220-229f527c.pth\n"
     ]
    },
    {
     "data": {
      "text/html": [
       "<pre style=\"white-space:pre;overflow-x:auto;line-height:normal;font-family:Menlo,'DejaVu Sans Mono',consolas,'Courier New',monospace\">/Users/becklabash/Documents/AI/form-repr/env/lib/python3.9/site-packages/rich/live.py:231: UserWarning: install \n",
       "\"ipywidgets\" for Jupyter support\n",
       "  warnings.warn('install \"ipywidgets\" for Jupyter support')\n",
       "</pre>\n"
      ],
      "text/plain": [
       "/Users/becklabash/Documents/AI/form-repr/env/lib/python3.9/site-packages/rich/live.py:231: UserWarning: install \n",
       "\"ipywidgets\" for Jupyter support\n",
       "  warnings.warn('install \"ipywidgets\" for Jupyter support')\n"
      ]
     },
     "metadata": {},
     "output_type": "display_data"
    },
    {
     "name": "stdout",
     "output_type": "stream",
     "text": [
      "The model and loaded state dict do not match exactly\n",
      "\n",
      "unexpected key in source state_dict: data_preprocessor.mean, data_preprocessor.std\n",
      "\n"
     ]
    },
    {
     "data": {
      "text/html": [
       "<pre style=\"white-space:pre;overflow-x:auto;line-height:normal;font-family:Menlo,'DejaVu Sans Mono',consolas,'Courier New',monospace\">/Users/becklabash/Documents/AI/form-repr/env/lib/python3.9/site-packages/torch/functional.py:504: UserWarning: \n",
       "torch.meshgrid: in an upcoming release, it will be required to pass the indexing argument. (Triggered internally at\n",
       "/Users/runner/work/pytorch/pytorch/pytorch/aten/src/ATen/native/TensorShape.cpp:3527.)\n",
       "  return _VF.meshgrid(tensors, **kwargs)  # type: ignore[attr-defined]\n",
       "</pre>\n"
      ],
      "text/plain": [
       "/Users/becklabash/Documents/AI/form-repr/env/lib/python3.9/site-packages/torch/functional.py:504: UserWarning: \n",
       "torch.meshgrid: in an upcoming release, it will be required to pass the indexing argument. (Triggered internally at\n",
       "/Users/runner/work/pytorch/pytorch/pytorch/aten/src/ATen/native/TensorShape.cpp:3527.)\n",
       "  return _VF.meshgrid(tensors, **kwargs)  # type: ignore[attr-defined]\n"
      ]
     },
     "metadata": {},
     "output_type": "display_data"
    },
    {
     "data": {
      "text/html": [
       "<pre style=\"white-space:pre;overflow-x:auto;line-height:normal;font-family:Menlo,'DejaVu Sans Mono',consolas,'Courier New',monospace\"></pre>\n"
      ],
      "text/plain": []
     },
     "metadata": {},
     "output_type": "display_data"
    },
    {
     "data": {
      "text/html": [
       "<pre style=\"white-space:pre;overflow-x:auto;line-height:normal;font-family:Menlo,'DejaVu Sans Mono',consolas,'Courier New',monospace\">\n",
       "</pre>\n"
      ],
      "text/plain": [
       "\n"
      ]
     },
     "metadata": {},
     "output_type": "display_data"
    }
   ],
   "source": [
    "from inferencers import inferencer_2d, inferencer_3d\n",
    "from mmpose.apis import MMPoseInferencer\n",
    "import json\n",
    "\n",
    "def extract_video_keypoints(video_path: str, inferencer: MMPoseInferencer, is_3d: bool = True):\n",
    "    result_generator = inferencer(video_path, show=False)\n",
    "    results = []\n",
    "    for frame in result_generator:\n",
    "        if is_3d:\n",
    "            result_2d = frame['predictions_2d'][0]\n",
    "            result_3d = frame['predictions'][0]\n",
    "        else:\n",
    "            result_2d = frame['predictions'][0]\n",
    "            result_3d = []\n",
    "\n",
    "        for subject in result_2d:\n",
    "            subject['bbox_score'] = float(subject['bbox_score'])\n",
    "        \n",
    "        results.append({'predictions_3d': result_3d, 'predictions_2d': result_2d})\n",
    "    return results\n",
    "\n",
    "results = extract_video_keypoints('../test_videos/images.jpg', inferencer_3d)"
   ]
  },
  {
   "cell_type": "code",
   "execution_count": 2,
   "metadata": {},
   "outputs": [],
   "source": [
    "import json\n",
    "with open('../test_videos/44.json', 'w') as f:\n",
    "    json.dump(results, f)"
   ]
  },
  {
   "cell_type": "code",
   "execution_count": 7,
   "metadata": {},
   "outputs": [
    {
     "data": {
      "text/plain": [
       "[{'keypoints': [[820.776611328125, 246.7986602783203],\n",
       "   [847.0061645507812, 216.19744873046875],\n",
       "   [820.776611328125, 220.5690460205078],\n",
       "   [930.0665893554688, 227.12644958496094],\n",
       "   [949.7388305664062, 231.498046875],\n",
       "   [1013.1270141601562, 377.9466857910156],\n",
       "   [951.9246215820312, 373.5751037597656],\n",
       "   [1290.7237548828125, 513.46630859375],\n",
       "   [1002.197998046875, 583.4119262695312],\n",
       "   [1094.001708984375, 675.215576171875],\n",
       "   [868.8641967773438, 561.553955078125],\n",
       "   [1087.4442138671875, 861.0086059570312],\n",
       "   [1026.2418212890625, 850.07958984375],\n",
       "   [960.6678466796875, 1094.8892822265625],\n",
       "   [1192.3626708984375, 1094.8892822265625],\n",
       "   [687.4427490234375, 1094.8892822265625],\n",
       "   [1524.6043701171875, 1094.8892822265625]],\n",
       "  'keypoint_scores': [0.8433696031570435,\n",
       "   0.8305202722549438,\n",
       "   0.8021013736724854,\n",
       "   0.8216841220855713,\n",
       "   0.38837534189224243,\n",
       "   0.630261242389679,\n",
       "   0.5698609352111816,\n",
       "   0.6871940493583679,\n",
       "   0.3231218755245209,\n",
       "   0.5893257856369019,\n",
       "   0.690312385559082,\n",
       "   0.49303263425827026,\n",
       "   0.3224278688430786,\n",
       "   0.19762566685676575,\n",
       "   0.07766557484865189,\n",
       "   0.110714390873909,\n",
       "   0.11595006287097931],\n",
       "  'bbox': ([771.3775634765625,\n",
       "    187.29217529296875,\n",
       "    1442.85546875,\n",
       "    887.7280883789062],),\n",
       "  'bbox_score': 0.9028994}]"
      ]
     },
     "execution_count": 7,
     "metadata": {},
     "output_type": "execute_result"
    }
   ],
   "source": [
    "results[0]['predictions'][0]"
   ]
  },
  {
   "cell_type": "code",
   "execution_count": null,
   "metadata": {},
   "outputs": [],
   "source": []
  }
 ],
 "metadata": {
  "kernelspec": {
   "display_name": "env",
   "language": "python",
   "name": "python3"
  },
  "language_info": {
   "codemirror_mode": {
    "name": "ipython",
    "version": 3
   },
   "file_extension": ".py",
   "mimetype": "text/x-python",
   "name": "python",
   "nbconvert_exporter": "python",
   "pygments_lexer": "ipython3",
   "version": "3.9.18"
  }
 },
 "nbformat": 4,
 "nbformat_minor": 2
}
