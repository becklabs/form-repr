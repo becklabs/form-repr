{
 "cells": [
  {
   "cell_type": "code",
   "execution_count": 1,
   "metadata": {},
   "outputs": [],
   "source": [
    "import numpy as np\n",
    "from sklearn import svm\n",
    "import pandas as pd\n",
    "from sklearn.metrics import accuracy_score\n",
    "from sklearn.model_selection import KFold, StratifiedKFold, cross_val_score\n",
    "import os\n",
    "import matplotlib.pyplot as plt\n",
    "from mpl_toolkits.mplot3d import Axes3D\n",
    "from sklearn.manifold import TSNE\n",
    "import seaborn as sns"
   ]
  },
  {
   "cell_type": "markdown",
   "metadata": {},
   "source": [
    "#### Load Labeled Training Embeddings"
   ]
  },
  {
   "cell_type": "code",
   "execution_count": 5,
   "metadata": {},
   "outputs": [],
   "source": [
    "TRAIN_PATH = '../data/embed/Embeddings/'\n",
    "x = []\n",
    "y = []\n",
    "for file_name in [file for file in os.listdir(TRAIN_PATH) if file.endswith('.npy')]:\n",
    "    frames = np.load(TRAIN_PATH + file_name)\n",
    "    frames = frames.reshape(-1, 17*512)\n",
    "    frames = np.mean(frames, axis=0)\n",
    "    if file_name.startswith(\"Perfect\"):\n",
    "        y.append(\"Good_form\")\n",
    "    else:\n",
    "        y.append(\"Overstride/Heelstrike\")\n",
    "    x.append(frames)"
   ]
  },
  {
   "cell_type": "markdown",
   "metadata": {},
   "source": [
    "#### Load Test Embedding"
   ]
  },
  {
   "cell_type": "code",
   "execution_count": 8,
   "metadata": {},
   "outputs": [],
   "source": [
    "TEST_PATH = '../data/embed/oliver/IMG_5046.npy'\n",
    "overstride_frames = np.load(TEST_PATH)\n",
    "overstride_frames = overstride_frames.reshape(-1, 17*512)\n",
    "overstride_frames = np.mean(overstride_frames, axis=0)"
   ]
  },
  {
   "cell_type": "markdown",
   "metadata": {},
   "source": [
    "#### Partition Data and Fit the SVM"
   ]
  },
  {
   "cell_type": "code",
   "execution_count": 9,
   "metadata": {},
   "outputs": [
    {
     "name": "stdout",
     "output_type": "stream",
     "text": [
      "(18, 8704)\n",
      "Training Accuracy for Fold 1: 1.0\n",
      "Test Accuracy for Fold 1: 0.8\n",
      "\n"
     ]
    },
    {
     "name": "stderr",
     "output_type": "stream",
     "text": [
      "/Users/becklabash/Documents/AI/form-repr/env/lib/python3.9/site-packages/sklearn/svm/_classes.py:32: FutureWarning: The default value of `dual` will change from `True` to `'auto'` in 1.5. Set the value of `dual` explicitly to suppress the warning.\n",
      "  warnings.warn(\n",
      "/Users/becklabash/Documents/AI/form-repr/env/lib/python3.9/site-packages/sklearn/svm/_classes.py:32: FutureWarning: The default value of `dual` will change from `True` to `'auto'` in 1.5. Set the value of `dual` explicitly to suppress the warning.\n",
      "  warnings.warn(\n"
     ]
    },
    {
     "name": "stdout",
     "output_type": "stream",
     "text": [
      "Training Accuracy for Fold 2: 0.9230769230769231\n",
      "Test Accuracy for Fold 2: 0.6\n",
      "\n",
      "Training Accuracy for Fold 3: 0.8571428571428571\n",
      "Test Accuracy for Fold 3: 0.75\n",
      "\n"
     ]
    },
    {
     "name": "stderr",
     "output_type": "stream",
     "text": [
      "/Users/becklabash/Documents/AI/form-repr/env/lib/python3.9/site-packages/sklearn/svm/_classes.py:32: FutureWarning: The default value of `dual` will change from `True` to `'auto'` in 1.5. Set the value of `dual` explicitly to suppress the warning.\n",
      "  warnings.warn(\n",
      "/Users/becklabash/Documents/AI/form-repr/env/lib/python3.9/site-packages/sklearn/svm/_classes.py:32: FutureWarning: The default value of `dual` will change from `True` to `'auto'` in 1.5. Set the value of `dual` explicitly to suppress the warning.\n",
      "  warnings.warn(\n"
     ]
    },
    {
     "name": "stdout",
     "output_type": "stream",
     "text": [
      "Training Accuracy for Fold 4: 0.7857142857142857\n",
      "Test Accuracy for Fold 4: 0.75\n",
      "\n"
     ]
    }
   ],
   "source": [
    "np.random.seed(69)\n",
    "x = np.asarray(x)\n",
    "y = np.asarray(y)\n",
    "print(x.shape)\n",
    "kf = KFold(n_splits=4, shuffle=True,random_state=16)\n",
    "cnt = 1\n",
    "for train_index, test_index in kf.split(x, y):\n",
    "    x_train, y_train = x[train_index], y[train_index]\n",
    "    x_test, y_test = x[test_index], y[test_index]\n",
    "\n",
    "    support = svm.LinearSVC(random_state=cnt)\n",
    "    support.fit(x_train, y_train)\n",
    "    predicted = support.predict(x_train)\n",
    "    score = accuracy_score(y_train, predicted)\n",
    "    print(f'Training Accuracy for Fold {cnt}: {score}')\n",
    "    predicted = support.predict(x_test)\n",
    "    score = accuracy_score(y_test, predicted)\n",
    "    print(f'Test Accuracy for Fold {cnt}: {score}')\n",
    "    print()\n",
    "    cnt += 1"
   ]
  },
  {
   "cell_type": "markdown",
   "metadata": {},
   "source": [
    "#### Visualize with t-SNE"
   ]
  },
  {
   "cell_type": "code",
   "execution_count": 10,
   "metadata": {},
   "outputs": [
    {
     "data": {
      "image/png": "[encoded data removed]",
      "text/plain": [
       "<Figure size 640x480 with 1 Axes>"
      ]
     },
     "metadata": {},
     "output_type": "display_data"
    }
   ],
   "source": [
    "n_components = 2\n",
    "tsne = TSNE(n_components, perplexity=5)\n",
    "x = np.asarray(x)\n",
    "\n",
    "tsne_result = tsne.fit_transform(x)\n",
    "tsne_result_df = pd.DataFrame({'tsne_1': tsne_result[:, 0], 'tsne_2': tsne_result[:, 1], 'label': y})\n",
    "\n",
    "fig, ax = plt.subplots(1)\n",
    "sns.scatterplot(x='tsne_1', y='tsne_2', hue='label', data=tsne_result_df, ax=ax, s=120)\n",
    "lim = (tsne_result.min() - 5, tsne_result.max() + 5)\n",
    "ax.set_xlim(lim)\n",
    "ax.set_ylim(lim)\n",
    "plt.legend()\n",
    "ax.set_aspect('equal')\n",
    "ax.legend(bbox_to_anchor=(1, 1), loc=2, borderaxespad=0.0)\n",
    "plt.show()"
   ]
  }
 ],
 "metadata": {
  "kernelspec": {
   "display_name": "env",
   "language": "python",
   "name": "python3"
  },
  "language_info": {
   "codemirror_mode": {
    "name": "ipython",
    "version": 3
   },
   "file_extension": ".py",
   "mimetype": "text/x-python",
   "name": "python",
   "nbconvert_exporter": "python",
   "pygments_lexer": "ipython3",
   "version": "3.9.18"
  }
 },
 "nbformat": 4,
 "nbformat_minor": 2
}
